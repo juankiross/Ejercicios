{
 "cells": [
  {
   "cell_type": "code",
   "execution_count": null,
   "metadata": {},
   "outputs": [],
   "source": [
    "#1. Reescribe el programa para calcular el salario (con las horas extra) para que utilice una función que reciba el número de horas y el precio por hora"
   ]
  },
  {
   "cell_type": "code",
   "execution_count": 1,
   "metadata": {},
   "outputs": [
    {
     "name": "stdout",
     "output_type": "stream",
     "text": [
      "450\n"
     ]
    }
   ],
   "source": [
    "horas_trabajo=int(input('¿Cuántas horas trabajas?'))\n",
    "precio_trabajo=int(input('¿Cúanto te pagan la hora?'))\n",
    "total=(horas_trabajo*precio_trabajo)\n",
    "print(total)"
   ]
  },
  {
   "cell_type": "code",
   "execution_count": null,
   "metadata": {},
   "outputs": [],
   "source": [
    "#2. Reescribe el programa para traducir la nota numérica de un estudiante a la categoría, para que utilice una función que reciba el número y devuelva el string con la categoría"
   ]
  },
  {
   "cell_type": "code",
   "execution_count": 22,
   "metadata": {},
   "outputs": [
    {
     "name": "stdout",
     "output_type": "stream",
     "text": [
      "Bien\n",
      "5\n"
     ]
    }
   ],
   "source": [
    "nota=int(input('¿Qué nota tienes?'))\n",
    "if nota<5:\n",
    "    print('Suspenso')\n",
    "elif nota in range(5,6):\n",
    "    print('Bien')\n",
    "elif nota in range(7,8):\n",
    "    print('Notable')\n",
    "elif nota in range(9,10):\n",
    "    print('Sobresaliente')\n",
    "else:\n",
    "    print('Nota erronea')\n",
    "print(nota)"
   ]
  },
  {
   "cell_type": "code",
   "execution_count": null,
   "metadata": {},
   "outputs": [],
   "source": [
    "#3. Crea una “calculadora del amor”, una función que reciba dos nombres y calcule (aleatoriamente) la probabilidad de que sea amor verdadero."
   ]
  },
  {
   "cell_type": "code",
   "execution_count": 45,
   "metadata": {},
   "outputs": [
    {
     "name": "stdout",
     "output_type": "stream",
     "text": [
      "La probabilidad de amaros es de 25 %\n"
     ]
    }
   ],
   "source": [
    "import random\n",
    "def calculadora(nombre1,nombre2):\n",
    "    return random.randint(0,100)\n",
    "nombre1=str(input('Tu nombre'))\n",
    "nombre2=str(input('Nombre de tu amad@'))\n",
    "print('La probabilidad de amaros es de', calculadora(nombre1,nombre2),'%')\n"
   ]
  },
  {
   "cell_type": "code",
   "execution_count": null,
   "metadata": {},
   "outputs": [],
   "source": [
    "#4. Añade un parámetro extra, si el cliente es de pago. Si el cliente de la calculadora ha pagado, el porcentaje será siempre superior al 90%. Este parámetro será opcional, por defecto los clientes no son de pago"
   ]
  },
  {
   "cell_type": "code",
   "execution_count": 54,
   "metadata": {},
   "outputs": [
    {
     "name": "stdout",
     "output_type": "stream",
     "text": [
      "La probabilidad de amaros es de 97 %\n"
     ]
    }
   ],
   "source": [
    "import random\n",
    "def calculadora(nombre1,nombre2,tarjeta=True):\n",
    "    if tarjeta:\n",
    "        return random.randint(90,100)\n",
    "nombre1=str(input('Tu nombre'))\n",
    "nombre2=str(input('Nombre de tu amad@'))\n",
    "tarejeta=int(input('Número de tu tarjeta'))\n",
    "print('La probabilidad de amaros es de', calculadora(nombre1,nombre2,tarjeta=True),'%')"
   ]
  },
  {
   "cell_type": "code",
   "execution_count": null,
   "metadata": {},
   "outputs": [],
   "source": [
    "#5. Utiliza una función recursiva para generar la serie de Fibonacci, una serie de números en que cada número se calcula en base a la suma de los dos anteriores. Empieza en 0, 1. Crea una función que reciba la posición de la lista de Fibonacci y devuelva el valor:"
   ]
  },
  {
   "cell_type": "code",
   "execution_count": 60,
   "metadata": {},
   "outputs": [
    {
     "name": "stdout",
     "output_type": "stream",
     "text": [
      "701408733\n"
     ]
    }
   ],
   "source": [
    "#0 1 1 2 3 5 8 13 21 34 \n",
    "def fibonacci(posicion):\n",
    "    if posicion==1:\n",
    "        return 0\n",
    "    elif posicion==2:\n",
    "        return 1\n",
    "    else:\n",
    "        return fibonacci(posicion-2) + fibonacci(posicion-1)\n",
    "print(fibonacci(45))"
   ]
  },
  {
   "cell_type": "code",
   "execution_count": null,
   "metadata": {},
   "outputs": [],
   "source": [
    "#6. Un granjero tiene una pareja de conejos que cada 3 meses cría otra pareja de conejos (que a su vez criará una pareja cada 3 meses de manera inmediata). Crea una función recursiva para calcular el número de conejos que tendrá el granjero después de 2 años (8 iteraciones)"
   ]
  },
  {
   "cell_type": "code",
   "execution_count": 65,
   "metadata": {},
   "outputs": [
    {
     "name": "stdout",
     "output_type": "stream",
     "text": [
      "64\n"
     ]
    }
   ],
   "source": [
    "#2 4 8 16 32\n",
    "def conejos(trimestre):\n",
    "    if trimestre==1:\n",
    "        return 2\n",
    "    else:\n",
    "        return conejos(trimestre-1)*2\n",
    "print(conejos(6))"
   ]
  },
  {
   "cell_type": "code",
   "execution_count": 2,
   "metadata": {},
   "outputs": [
    {
     "name": "stdout",
     "output_type": "stream",
     "text": [
      "Palante\n",
      "None\n"
     ]
    }
   ],
   "source": [
    "class persona():\n",
    "  def __init__(self, nombre, edad, dni):\n",
    "    self.nombre=nombre\n",
    "    self.edad=edad\n",
    "    self.dni=dni\n",
    "  def mostrar(self):\n",
    "    print('Su nombre es', self.nombre, 'con edad', self.edad, 'años y DNI', self.dni)\n",
    "  def dni_1(self):\n",
    "    if len(self.dni)!=9:\n",
    "        print('Error')\n",
    "    else:\n",
    "      print('Palante')  \n",
    "antonio= persona('Antonio Rodriguez', '20', '02317357s')\n",
    "print(antonio.dni_1())"
   ]
  }
 ],
 "metadata": {
  "kernelspec": {
   "display_name": "Python 3.9.6 64-bit",
   "language": "python",
   "name": "python3"
  },
  "language_info": {
   "codemirror_mode": {
    "name": "ipython",
    "version": 3
   },
   "file_extension": ".py",
   "mimetype": "text/x-python",
   "name": "python",
   "nbconvert_exporter": "python",
   "pygments_lexer": "ipython3",
   "version": "3.9.6"
  },
  "orig_nbformat": 4,
  "vscode": {
   "interpreter": {
    "hash": "8b2679bc2b1602cd0fc52ea67b2cf277adc1ca283f62fc0525d8b4d9fc028cc7"
   }
  }
 },
 "nbformat": 4,
 "nbformat_minor": 2
}
