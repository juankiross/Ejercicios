{
 "cells": [
  {
   "cell_type": "code",
   "execution_count": 8,
   "metadata": {},
   "outputs": [],
   "source": [
    "import mysql.connector\n",
    "import pandas as pd"
   ]
  },
  {
   "cell_type": "code",
   "execution_count": 9,
   "metadata": {},
   "outputs": [],
   "source": [
    "db=mysql.connector.connect(\n",
    "    host='iosqlde.onairnet.xyz',\n",
    "    user='imfReader',\n",
    "    password='imfReader2022@#@',\n",
    "    database='sqlCourse'\n",
    ")"
   ]
  },
  {
   "cell_type": "code",
   "execution_count": 10,
   "metadata": {},
   "outputs": [],
   "source": [
    "def sql(_query):\n",
    "    return pd.read_sql_query(_query, db)"
   ]
  },
  {
   "cell_type": "code",
   "execution_count": 12,
   "metadata": {},
   "outputs": [
    {
     "name": "stderr",
     "output_type": "stream",
     "text": [
      "C:\\Users\\Juan Carlos\\AppData\\Local\\Temp\\ipykernel_11448\\3379854766.py:2: UserWarning: pandas only supports SQLAlchemy connectable (engine/connection) or database string URI or sqlite3 DBAPI2 connection. Other DBAPI2 objects are not tested. Please consider using SQLAlchemy.\n",
      "  return pd.read_sql_query(_query, db)\n"
     ]
    },
    {
     "data": {
      "text/html": [
       "<div>\n",
       "<style scoped>\n",
       "    .dataframe tbody tr th:only-of-type {\n",
       "        vertical-align: middle;\n",
       "    }\n",
       "\n",
       "    .dataframe tbody tr th {\n",
       "        vertical-align: top;\n",
       "    }\n",
       "\n",
       "    .dataframe thead th {\n",
       "        text-align: right;\n",
       "    }\n",
       "</style>\n",
       "<table border=\"1\" class=\"dataframe\">\n",
       "  <thead>\n",
       "    <tr style=\"text-align: right;\">\n",
       "      <th></th>\n",
       "      <th>regID</th>\n",
       "      <th>Origen</th>\n",
       "      <th>Destino</th>\n",
       "      <th>airlineCode</th>\n",
       "    </tr>\n",
       "  </thead>\n",
       "  <tbody>\n",
       "    <tr>\n",
       "      <th>0</th>\n",
       "      <td>IB6402_20221019_20221018</td>\n",
       "      <td>MEX</td>\n",
       "      <td>MAD</td>\n",
       "      <td>IB</td>\n",
       "    </tr>\n",
       "    <tr>\n",
       "      <th>1</th>\n",
       "      <td>IB6400_20221018_20221018</td>\n",
       "      <td>MEX</td>\n",
       "      <td>MAD</td>\n",
       "      <td>IB</td>\n",
       "    </tr>\n",
       "  </tbody>\n",
       "</table>\n",
       "</div>"
      ],
      "text/plain": [
       "                      regID Origen Destino airlineCode\n",
       "0  IB6402_20221019_20221018    MEX     MAD          IB\n",
       "1  IB6400_20221018_20221018    MEX     MAD          IB"
      ]
     },
     "execution_count": 12,
     "metadata": {},
     "output_type": "execute_result"
    }
   ],
   "source": [
    "sql(\"\"\"\n",
    "    SELECT \n",
    "        regID,\n",
    "        airportDep AS Origen,\n",
    "        airportArr AS Destino,\n",
    "        airlineCode\n",
    "        \n",
    "    FROM raw_flights\n",
    "    \n",
    "    WHERE airlineCode='IB'\n",
    "    AND airportArr='MAD'\n",
    "    AND airportDep='MEX'\n",
    "\"\"\")"
   ]
  }
 ],
 "metadata": {
  "kernelspec": {
   "display_name": "Python 3.9.7 ('venv': venv)",
   "language": "python",
   "name": "python3"
  },
  "language_info": {
   "codemirror_mode": {
    "name": "ipython",
    "version": 3
   },
   "file_extension": ".py",
   "mimetype": "text/x-python",
   "name": "python",
   "nbconvert_exporter": "python",
   "pygments_lexer": "ipython3",
   "version": "3.9.7"
  },
  "orig_nbformat": 4,
  "vscode": {
   "interpreter": {
    "hash": "5f5dd9f488f67631cd1eccfee0eae0e1c9d31292909a942551102f5118e55b84"
   }
  }
 },
 "nbformat": 4,
 "nbformat_minor": 2
}
